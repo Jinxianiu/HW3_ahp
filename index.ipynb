{
 "cells": [
  {
   "cell_type": "code",
   "execution_count": 9,
   "id": "f1e35b7f-e709-49ff-869d-080cccb0fe8a",
   "metadata": {},
   "outputs": [
    {
     "name": "stdout",
     "output_type": "stream",
     "text": [
      "Collecting numpy==1.26.4\n",
      "  Using cached numpy-1.26.4-cp310-cp310-macosx_10_9_x86_64.whl.metadata (61 kB)\n",
      "Using cached numpy-1.26.4-cp310-cp310-macosx_10_9_x86_64.whl (20.6 MB)\n",
      "Installing collected packages: numpy\n",
      "  Attempting uninstall: numpy\n",
      "    Found existing installation: numpy 1.26.4\n",
      "    Uninstalling numpy-1.26.4:\n",
      "      Successfully uninstalled numpy-1.26.4\n",
      "Successfully installed numpy-1.26.4\n",
      "Collecting ahpy\n",
      "  Downloading ahpy-2.0-py3-none-any.whl.metadata (45 kB)\n",
      "Requirement already satisfied: numpy in /Users/jinxianiu/anaconda3/envs/ccs/lib/python3.10/site-packages (from ahpy) (1.26.4)\n",
      "Collecting scipy (from ahpy)\n",
      "  Downloading scipy-1.15.2-cp310-cp310-macosx_14_0_x86_64.whl.metadata (61 kB)\n",
      "Downloading ahpy-2.0-py3-none-any.whl (21 kB)\n",
      "Downloading scipy-1.15.2-cp310-cp310-macosx_14_0_x86_64.whl (25.1 MB)\n",
      "\u001b[2K   \u001b[90m━━━━━━━━━━━━━━━━━━━━━━━━━━━━━━━━━━━━━━━━\u001b[0m \u001b[32m25.1/25.1 MB\u001b[0m \u001b[31m3.0 MB/s\u001b[0m eta \u001b[36m0:00:00\u001b[0m00:01\u001b[0m00:01\u001b[0m\n",
      "\u001b[?25hInstalling collected packages: scipy, ahpy\n",
      "\u001b[2K   \u001b[90m━━━━━━━━━━━━━━━━━━━━━━━━━━━━━━━━━━━━━━━━\u001b[0m \u001b[32m2/2\u001b[0m [ahpy]]\n",
      "\u001b[1A\u001b[2KSuccessfully installed ahpy-2.0 scipy-1.15.2\n"
     ]
    }
   ],
   "source": [
    " !pip install --force-reinstall numpy==1.26.4\n",
    " !pip install hpy"
   ]
  },
  {
   "cell_type": "code",
   "execution_count": 7,
   "id": "506d30ad-4079-46fe-8d2a-1b76052c243e",
   "metadata": {},
   "outputs": [
    {
     "data": {
      "text/html": [
       "<div>\n",
       "<style scoped>\n",
       "    .dataframe tbody tr th:only-of-type {\n",
       "        vertical-align: middle;\n",
       "    }\n",
       "\n",
       "    .dataframe tbody tr th {\n",
       "        vertical-align: top;\n",
       "    }\n",
       "\n",
       "    .dataframe thead th {\n",
       "        text-align: right;\n",
       "    }\n",
       "</style>\n",
       "<table border=\"1\" class=\"dataframe\">\n",
       "  <thead>\n",
       "    <tr style=\"text-align: right;\">\n",
       "      <th></th>\n",
       "      <th>school A</th>\n",
       "      <th>school B</th>\n",
       "      <th>school C</th>\n",
       "      <th>priority</th>\n",
       "    </tr>\n",
       "  </thead>\n",
       "  <tbody>\n",
       "    <tr>\n",
       "      <th>school A</th>\n",
       "      <td>1</td>\n",
       "      <td>0.333333</td>\n",
       "      <td>0.5</td>\n",
       "      <td>16</td>\n",
       "    </tr>\n",
       "    <tr>\n",
       "      <th>school B</th>\n",
       "      <td>3</td>\n",
       "      <td>1.000000</td>\n",
       "      <td>3.0</td>\n",
       "      <td>59</td>\n",
       "    </tr>\n",
       "    <tr>\n",
       "      <th>school C</th>\n",
       "      <td>2</td>\n",
       "      <td>0.333333</td>\n",
       "      <td>1.0</td>\n",
       "      <td>25</td>\n",
       "    </tr>\n",
       "  </tbody>\n",
       "</table>\n",
       "</div>"
      ],
      "text/plain": [
       "          school A  school B  school C  priority\n",
       "school A         1  0.333333       0.5        16\n",
       "school B         3  1.000000       3.0        59\n",
       "school C         2  0.333333       1.0        25"
      ]
     },
     "execution_count": 7,
     "metadata": {},
     "output_type": "execute_result"
    }
   ],
   "source": [
    "#read the excel date from local repo\n",
    "\n",
    "import pandas as pd\n",
    "\n",
    "pairwise_learning = pd.read_excel( '/Users/jinxianiu/Documents/GitHub/HW3_ahp/Homework3.xlsx',  sheet_name='learning',index_col=0)\n",
    "\n",
    "\n",
    "pairwise_learning\n"
   ]
  },
  {
   "cell_type": "code",
   "execution_count": 10,
   "id": "eb165cc5-95fb-499a-a6f5-9306914d7249",
   "metadata": {},
   "outputs": [],
   "source": [
    "# opening the comparissons\n",
    "pairwise_friends=pd.read_excel('/Users/jinxianiu/Documents/GitHub/HW3_ahp/Homework3.xlsx', sheet_name='friends', index_col=0)\n",
    "pairwise_sl=pd.read_excel('/Users/jinxianiu/Documents/GitHub/HW3_ahp/Homework3.xlsx', sheet_name='school life', index_col=0)\n",
    "pairwise_vt=pd.read_excel('/Users/jinxianiu/Documents/GitHub/HW3_ahp/Homework3.xlsx', sheet_name='vocational training', index_col=0)\n",
    "pairwise_cp=pd.read_excel('/Users/jinxianiu/Documents/GitHub/HW3_ahp/Homework3.xlsx', sheet_name='college prep', index_col=0)\n",
    "pairwise_mc=pd.read_excel('/Users/jinxianiu/Documents/GitHub/HW3_ahp/Homework3.xlsx', sheet_name='music classes', index_col=0)\n",
    "\n",
    "pairwise_criteria = pd.read_excel(\n",
    "    '/Users/jinxianiu/Documents/GitHub/HW3_ahp/Homework3.xlsx',\n",
    "    sheet_name='criteria',\n",
    "    index_col=0,\n",
    "    skiprows=1 #correct a data inputing error: left the first row empty\n",
    ")\n",
    "\n"
   ]
  },
  {
   "cell_type": "code",
   "execution_count": 13,
   "id": "bb707240-1275-4408-9471-7842c7b43c85",
   "metadata": {},
   "outputs": [
    {
     "data": {
      "text/html": [
       "<div>\n",
       "<style scoped>\n",
       "    .dataframe tbody tr th:only-of-type {\n",
       "        vertical-align: middle;\n",
       "    }\n",
       "\n",
       "    .dataframe tbody tr th {\n",
       "        vertical-align: top;\n",
       "    }\n",
       "\n",
       "    .dataframe thead th {\n",
       "        text-align: right;\n",
       "    }\n",
       "</style>\n",
       "<table border=\"1\" class=\"dataframe\">\n",
       "  <thead>\n",
       "    <tr style=\"text-align: right;\">\n",
       "      <th></th>\n",
       "      <th>learning</th>\n",
       "      <th>friends</th>\n",
       "      <th>school life</th>\n",
       "      <th>vocational training</th>\n",
       "      <th>college prep</th>\n",
       "      <th>music classes</th>\n",
       "      <th>weights</th>\n",
       "    </tr>\n",
       "  </thead>\n",
       "  <tbody>\n",
       "    <tr>\n",
       "      <th>learning</th>\n",
       "      <td>1.00</td>\n",
       "      <td>4.00</td>\n",
       "      <td>3</td>\n",
       "      <td>1.0</td>\n",
       "      <td>3.00</td>\n",
       "      <td>4.00</td>\n",
       "      <td>32</td>\n",
       "    </tr>\n",
       "    <tr>\n",
       "      <th>friends</th>\n",
       "      <td>0.25</td>\n",
       "      <td>1.00</td>\n",
       "      <td>7</td>\n",
       "      <td>3.0</td>\n",
       "      <td>0.20</td>\n",
       "      <td>1.00</td>\n",
       "      <td>14</td>\n",
       "    </tr>\n",
       "    <tr>\n",
       "      <th>school life</th>\n",
       "      <td>0.33</td>\n",
       "      <td>0.14</td>\n",
       "      <td>1</td>\n",
       "      <td>0.2</td>\n",
       "      <td>0.20</td>\n",
       "      <td>0.17</td>\n",
       "      <td>3</td>\n",
       "    </tr>\n",
       "    <tr>\n",
       "      <th>vocational training</th>\n",
       "      <td>1.00</td>\n",
       "      <td>0.33</td>\n",
       "      <td>5</td>\n",
       "      <td>1.0</td>\n",
       "      <td>1.00</td>\n",
       "      <td>0.33</td>\n",
       "      <td>13</td>\n",
       "    </tr>\n",
       "    <tr>\n",
       "      <th>college prep</th>\n",
       "      <td>0.33</td>\n",
       "      <td>5.00</td>\n",
       "      <td>5</td>\n",
       "      <td>1.0</td>\n",
       "      <td>1.00</td>\n",
       "      <td>3.00</td>\n",
       "      <td>24</td>\n",
       "    </tr>\n",
       "    <tr>\n",
       "      <th>music classes</th>\n",
       "      <td>0.25</td>\n",
       "      <td>1.00</td>\n",
       "      <td>6</td>\n",
       "      <td>3.0</td>\n",
       "      <td>0.33</td>\n",
       "      <td>1.00</td>\n",
       "      <td>14</td>\n",
       "    </tr>\n",
       "  </tbody>\n",
       "</table>\n",
       "</div>"
      ],
      "text/plain": [
       "                     learning  friends  school life  vocational training  \\\n",
       "learning                 1.00     4.00            3                  1.0   \n",
       "friends                  0.25     1.00            7                  3.0   \n",
       "school life              0.33     0.14            1                  0.2   \n",
       "vocational training      1.00     0.33            5                  1.0   \n",
       "college prep             0.33     5.00            5                  1.0   \n",
       "music classes            0.25     1.00            6                  3.0   \n",
       "\n",
       "                     college prep  music classes  weights  \n",
       "learning                     3.00           4.00       32  \n",
       "friends                      0.20           1.00       14  \n",
       "school life                  0.20           0.17        3  \n",
       "vocational training          1.00           0.33       13  \n",
       "college prep                 1.00           3.00       24  \n",
       "music classes                0.33           1.00       14  "
      ]
     },
     "execution_count": 13,
     "metadata": {},
     "output_type": "execute_result"
    }
   ],
   "source": [
    "# test if all works\n",
    "pairwise_criteria"
   ]
  },
  {
   "cell_type": "code",
   "execution_count": 15,
   "id": "7489673e-1160-4fb9-af4e-17bd6c3d47b5",
   "metadata": {},
   "outputs": [
    {
     "name": "stdout",
     "output_type": "stream",
     "text": [
      "Collecting networkx\n",
      "  Downloading networkx-3.4.2-py3-none-any.whl.metadata (6.3 kB)\n",
      "Downloading networkx-3.4.2-py3-none-any.whl (1.7 MB)\n",
      "\u001b[2K   \u001b[90m━━━━━━━━━━━━━━━━━━━━━━━━━━━━━━━━━━━━━━━━\u001b[0m \u001b[32m1.7/1.7 MB\u001b[0m \u001b[31m3.1 MB/s\u001b[0m eta \u001b[36m0:00:00\u001b[0ma \u001b[36m0:00:01\u001b[0m\n",
      "\u001b[?25hInstalling collected packages: networkx\n",
      "Successfully installed networkx-3.4.2\n"
     ]
    },
    {
     "data": {
      "text/plain": [
       "OutMultiEdgeDataView([('school A', 'school A', {'weight': 1}), ('school A', 'school B', {'weight': 1}), ('school A', 'school C', {'weight': 1}), ('school B', 'school A', {'weight': 1}), ('school B', 'school B', {'weight': 1}), ('school B', 'school C', {'weight': 1}), ('school C', 'school A', {'weight': 1}), ('school C', 'school B', {'weight': 1}), ('school C', 'school C', {'weight': 1})])"
      ]
     },
     "execution_count": 15,
     "metadata": {},
     "output_type": "execute_result"
    }
   ],
   "source": [
    "#Transform all adjacency matrices into pairwise comparissons:\n",
    "!pip install networkx\n",
    "import networkx as nx\n",
    "\n",
    "G_friends = nx.from_pandas_adjacency(pairwise_friends, create_using=nx.MultiDiGraph())\n",
    "\n",
    "# pairwise\n",
    "G_friends.edges(data=True)"
   ]
  },
  {
   "cell_type": "markdown",
   "id": "4647a584-8145-4546-8cfe-b128701db61d",
   "metadata": {},
   "source": [
    "We do not need the missing values (nan), then what about:"
   ]
  },
  {
   "cell_type": "code",
   "execution_count": 17,
   "id": "4a2a9fe9-b8b9-4d32-9054-f2ce0f0a81c2",
   "metadata": {},
   "outputs": [
    {
     "data": {
      "text/plain": [
       "{('school A', 'school A'): 1,\n",
       " ('school A', 'school B'): 1,\n",
       " ('school A', 'school C'): 1,\n",
       " ('school B', 'school A'): 1,\n",
       " ('school B', 'school B'): 1,\n",
       " ('school B', 'school C'): 1,\n",
       " ('school C', 'school A'): 1,\n",
       " ('school C', 'school B'): 1,\n",
       " ('school C', 'school C'): 1}"
      ]
     },
     "execution_count": 17,
     "metadata": {},
     "output_type": "execute_result"
    }
   ],
   "source": [
    "import numpy as np \n",
    "{(e[0],e[1]):e[2]['weight'] for e in G_friends.edges(data=True) if np.isfinite(e[2]['weight'])}"
   ]
  },
  {
   "cell_type": "markdown",
   "id": "95292337-9098-4aad-9d5b-eedf331e6745",
   "metadata": {},
   "source": [
    "We wil use that code to get all the comparissons:"
   ]
  },
  {
   "cell_type": "code",
   "execution_count": 21,
   "id": "91910bf0-55d1-4001-adcd-aeb255486e32",
   "metadata": {},
   "outputs": [],
   "source": [
    "\n",
    "friends_comparisons ={(e[0],e[1]):e[2]['weight'] for e in G_friends.edges(data=True) if np.isfinite(e[2]['weight'])}\n",
    "\n",
    "# ... and the remaining comparissons:\n",
    "G_sl = nx.from_pandas_adjacency(pairwise_sl,create_using=nx.MultiDiGraph())\n",
    "sl_comparisons={(e[0],e[1]):e[2]['weight'] for e in G_sl.edges(data=True) if np.isfinite(e[2]['weight'])}\n",
    "\n",
    "G_learning = nx.from_pandas_adjacency(pairwise_learning,create_using=nx.MultiDiGraph())\n",
    "learning_comparisons={(e[0],e[1]):e[2]['weight'] for e in G_sl.edges(data=True) if np.isfinite(e[2]['weight'])}\n",
    "\n",
    "G_vt = nx.from_pandas_adjacency(pairwise_vt,create_using=nx.MultiDiGraph())\n",
    "vt_comparisons={(e[0],e[1]):e[2]['weight'] for e in G_vt.edges(data=True) if np.isfinite(e[2]['weight'])}\n",
    "\n",
    "G_cp = nx.from_pandas_adjacency(pairwise_cp,create_using=nx.MultiDiGraph())\n",
    "cp_comparisons={(e[0],e[1]):e[2]['weight'] for e in G_cp.edges(data=True) if np.isfinite(e[2]['weight'])}\n",
    "\n",
    "\n",
    "G_mc = nx.from_pandas_adjacency(pairwise_mc,create_using=nx.MultiDiGraph())\n",
    "mc_comparisons={(e[0],e[1]):e[2]['weight'] for e in G_mc.edges(data=True) if np.isfinite(e[2]['weight'])}\n",
    "\n",
    "G_criteria = nx.from_pandas_adjacency(pairwise_criteria,create_using=nx.MultiDiGraph())\n",
    "criteria_comparisons={(e[0],e[1]):e[2]['weight'] for e in G_criteria.edges(data=True) if np.isfinite(e[2]['weight'])}\n",
    "\n",
    "\n",
    "\n",
    "\n",
    "\n"
   ]
  },
  {
   "cell_type": "code",
   "execution_count": 22,
   "id": "1a060b13-70ec-4121-bf45-a073435eca58",
   "metadata": {},
   "outputs": [
    {
     "data": {
      "text/plain": [
       "[{('school A', 'school A'): 1,\n",
       "  ('school A', 'school B'): 1,\n",
       "  ('school A', 'school C'): 1,\n",
       "  ('school B', 'school A'): 1,\n",
       "  ('school B', 'school B'): 1,\n",
       "  ('school B', 'school C'): 1,\n",
       "  ('school C', 'school A'): 1,\n",
       "  ('school C', 'school B'): 1,\n",
       "  ('school C', 'school C'): 1},\n",
       " {('school A', 'school A'): 1.0,\n",
       "  ('school A', 'school B'): 5.0,\n",
       "  ('school A', 'school C'): 1.0,\n",
       "  ('school B', 'school A'): 0.2,\n",
       "  ('school B', 'school B'): 1.0,\n",
       "  ('school B', 'school C'): 0.2,\n",
       "  ('school C', 'school A'): 1.0,\n",
       "  ('school C', 'school B'): 5.0,\n",
       "  ('school C', 'school C'): 1.0},\n",
       " {('school A', 'school A'): 1.0,\n",
       "  ('school A', 'school B'): 5.0,\n",
       "  ('school A', 'school C'): 1.0,\n",
       "  ('school B', 'school A'): 0.2,\n",
       "  ('school B', 'school B'): 1.0,\n",
       "  ('school B', 'school C'): 0.2,\n",
       "  ('school C', 'school A'): 1.0,\n",
       "  ('school C', 'school B'): 5.0,\n",
       "  ('school C', 'school C'): 1.0},\n",
       " {('school A', 'school A'): 1.0,\n",
       "  ('school A', 'school B'): 9.0,\n",
       "  ('school A', 'school C'): 7.0,\n",
       "  ('school B', 'school A'): 0.1111111111,\n",
       "  ('school B', 'school B'): 1.0,\n",
       "  ('school B', 'school C'): 0.2,\n",
       "  ('school C', 'school A'): 0.1428571429,\n",
       "  ('school C', 'school B'): 5.0,\n",
       "  ('school C', 'school C'): 1.0},\n",
       " {('school A', 'school A'): 1.0,\n",
       "  ('school A', 'school B'): 0.5,\n",
       "  ('school A', 'school C'): 1.0,\n",
       "  ('school B', 'school A'): 2.0,\n",
       "  ('school B', 'school B'): 1.0,\n",
       "  ('school B', 'school C'): 2.0,\n",
       "  ('school C', 'school A'): 1.0,\n",
       "  ('school C', 'school B'): 0.5,\n",
       "  ('school C', 'school C'): 1.0},\n",
       " {('school A', 'school A'): 1.0,\n",
       "  ('school A', 'school B'): 6.0,\n",
       "  ('school A', 'school C'): 4.0,\n",
       "  ('school B', 'school A'): 0.17,\n",
       "  ('school B', 'school B'): 1.0,\n",
       "  ('school B', 'school C'): 0.33,\n",
       "  ('school C', 'school A'): 0.25,\n",
       "  ('school C', 'school B'): 3.0,\n",
       "  ('school C', 'school C'): 1.0},\n",
       " {('learning', 'learning'): 1.0,\n",
       "  ('learning', 'friends'): 4.0,\n",
       "  ('learning', 'school life'): 3.0,\n",
       "  ('learning', 'vocational training'): 1.0,\n",
       "  ('learning', 'college prep'): 3.0,\n",
       "  ('learning', 'music classes'): 4.0,\n",
       "  ('friends', 'learning'): 0.25,\n",
       "  ('friends', 'friends'): 1.0,\n",
       "  ('friends', 'school life'): 7.0,\n",
       "  ('friends', 'vocational training'): 3.0,\n",
       "  ('friends', 'college prep'): 0.2,\n",
       "  ('friends', 'music classes'): 1.0,\n",
       "  ('school life', 'learning'): 0.33,\n",
       "  ('school life', 'friends'): 0.14,\n",
       "  ('school life', 'school life'): 1.0,\n",
       "  ('school life', 'vocational training'): 0.2,\n",
       "  ('school life', 'college prep'): 0.2,\n",
       "  ('school life', 'music classes'): 0.17,\n",
       "  ('vocational training', 'learning'): 1.0,\n",
       "  ('vocational training', 'friends'): 0.33,\n",
       "  ('vocational training', 'school life'): 5.0,\n",
       "  ('vocational training', 'vocational training'): 1.0,\n",
       "  ('vocational training', 'college prep'): 1.0,\n",
       "  ('vocational training', 'music classes'): 0.33,\n",
       "  ('college prep', 'learning'): 0.33,\n",
       "  ('college prep', 'friends'): 5.0,\n",
       "  ('college prep', 'school life'): 5.0,\n",
       "  ('college prep', 'vocational training'): 1.0,\n",
       "  ('college prep', 'college prep'): 1.0,\n",
       "  ('college prep', 'music classes'): 3.0,\n",
       "  ('music classes', 'learning'): 0.25,\n",
       "  ('music classes', 'friends'): 1.0,\n",
       "  ('music classes', 'school life'): 6.0,\n",
       "  ('music classes', 'vocational training'): 3.0,\n",
       "  ('music classes', 'college prep'): 0.33,\n",
       "  ('music classes', 'music classes'): 1.0}]"
      ]
     },
     "execution_count": 22,
     "metadata": {},
     "output_type": "execute_result"
    }
   ],
   "source": [
    "# take a look\n",
    "[friends_comparisons,learning_comparisons, sl_comparisons,vt_comparisons,cp_comparisons,mc_comparisons,criteria_comparisons]"
   ]
  },
  {
   "cell_type": "code",
   "execution_count": 26,
   "id": "16ec39e8-0c5e-4803-8a05-00b354bc2133",
   "metadata": {},
   "outputs": [],
   "source": [
    "# input each comparisson\n",
    "\n",
    "import ahpy\n",
    "learning = ahpy.Compare('learning', learning_comparisons, random_index='saaty')\n",
    "friends = ahpy.Compare('friends', friends_comparisons, random_index='saaty')\n",
    "school_life = ahpy.Compare('school life', sl_comparisons, random_index='saaty')\n",
    "vocational_training = ahpy.Compare('vocational training', vt_comparisons, random_index='saaty')\n",
    "college_prep = ahpy.Compare('college prep', cp_comparisons, random_index='saaty')\n",
    "music_classes = ahpy.Compare('music classes', mc_comparisons, random_index='saaty')\n",
    "criteria = ahpy.Compare('criteria', criteria_comparisons, random_index='saaty')\n",
    "\n",
    "\n"
   ]
  },
  {
   "cell_type": "code",
   "execution_count": 30,
   "id": "645cc265-de8a-4704-a72d-9e8414738bfb",
   "metadata": {
    "scrolled": true
   },
   "outputs": [],
   "source": [
    "#Create hierarchy\n",
    "criteria.add_children([learning, friends, school_life, vocational_training, college_prep, music_classes])\n"
   ]
  },
  {
   "cell_type": "markdown",
   "id": "5c78aac0-2446-40f0-982e-a903e2cefd62",
   "metadata": {},
   "source": [
    "We can see which criterion was more valuable like this:"
   ]
  },
  {
   "cell_type": "code",
   "execution_count": 31,
   "id": "12123239-f02d-4af0-b7f2-d930f28f3025",
   "metadata": {},
   "outputs": [
    {
     "name": "stdout",
     "output_type": "stream",
     "text": [
      "{'learning': 0.3214, 'college prep': 0.2374, 'friends': 0.1401, 'music classes': 0.1384, 'vocational training': 0.1281, 'school life': 0.0345}\n"
     ]
    }
   ],
   "source": [
    "print(criteria.global_weights)"
   ]
  },
  {
   "cell_type": "code",
   "execution_count": 32,
   "id": "4709e721-ccb1-40c6-bf62-d05d6207c495",
   "metadata": {},
   "outputs": [
    {
     "name": "stdout",
     "output_type": "stream",
     "text": [
      "{'school A': 0.4621, 'school C': 0.3203, 'school B': 0.2175}\n"
     ]
    }
   ],
   "source": [
    "print(criteria.target_weights) #see best option"
   ]
  },
  {
   "cell_type": "code",
   "execution_count": 37,
   "id": "e9de4e1a-6ac0-48d9-b19f-2f335fb731be",
   "metadata": {},
   "outputs": [
    {
     "data": {
      "text/plain": [
       "[('learning', 0.0),\n",
       " ('friends', 0.0),\n",
       " ('school life', 0.0),\n",
       " ('vocational training', 0.2005),\n",
       " ('college prep', 0.0),\n",
       " ('music classes', 0.0546)]"
      ]
     },
     "execution_count": 37,
     "metadata": {},
     "output_type": "execute_result"
    }
   ],
   "source": [
    "#Assess consistency\n",
    "[(val.name,val.consistency_ratio) for val in [learning, friends, school_life, vocational_training, college_prep, music_classes]]"
   ]
  },
  {
   "cell_type": "markdown",
   "id": "6691d778-d39a-427b-94c7-96d9cf822a09",
   "metadata": {},
   "source": [
    "#we should review \"vocational traning\" for inconsistancy"
   ]
  }
 ],
 "metadata": {
  "kernelspec": {
   "display_name": "Python 3 (ipykernel)",
   "language": "python",
   "name": "python3"
  },
  "language_info": {
   "codemirror_mode": {
    "name": "ipython",
    "version": 3
   },
   "file_extension": ".py",
   "mimetype": "text/x-python",
   "name": "python",
   "nbconvert_exporter": "python",
   "pygments_lexer": "ipython3",
   "version": "3.10.17"
  }
 },
 "nbformat": 4,
 "nbformat_minor": 5
}
